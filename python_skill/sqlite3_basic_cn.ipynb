{
 "cells": [
  {
   "cell_type": "markdown",
   "id": "7fa719d9-6e03-4118-89e7-52eaab57b7c0",
   "metadata": {},
   "source": [
    "# Python数据库sqlite3基本用法"
   ]
  },
  {
   "cell_type": "markdown",
   "id": "3998517f-c280-4069-92c0-5faa2a84e4db",
   "metadata": {},
   "source": [
    "## 1.创建和写入数据库"
   ]
  },
  {
   "cell_type": "markdown",
   "id": "0bd5b448-00cf-4801-ae49-cd402c2602bd",
   "metadata": {},
   "source": [
    "假设我们需要将一些\"task\"信息存入本地数据库, 其中包含\"task_id\", \"task_name\", \"status\", “priority”, \"finish_time\"条目，并实现其存储、读取、查找、修改、删除等基本操作。``python3``标准库中的``sqlite3``可以方便地做到。"
   ]
  },
  {
   "cell_type": "code",
   "execution_count": 1,
   "id": "2fa4ba91-93a9-41a4-8e7b-edb3fa172748",
   "metadata": {},
   "outputs": [],
   "source": [
    "import sqlite3"
   ]
  },
  {
   "cell_type": "code",
   "execution_count": 2,
   "id": "6fbb84d7-6c6a-41d2-b100-257c0000e53a",
   "metadata": {},
   "outputs": [
    {
     "data": {
      "text/plain": [
       "<sqlite3.Cursor at 0x25853405c40>"
      ]
     },
     "execution_count": 2,
     "metadata": {},
     "output_type": "execute_result"
    }
   ],
   "source": [
    "# 连接到当前路径下的 SQLite 数据库（如果不存在，则会创建一个新的数据库文件）\n",
    "conn = sqlite3.connect(\"tasks.db\")\n",
    "\n",
    "# 创建一个游标对象，用于执行 SQL 查询\n",
    "cursor = conn.cursor()\n",
    "\n",
    "# 创建一个名为 \"tasks\" 的表格\n",
    "cursor.execute('''\n",
    "    CREATE TABLE IF NOT EXISTS tasks (\n",
    "        task_id INTEGER PRIMARY KEY,\n",
    "        task_name TEXT,\n",
    "        status TEXT DEFAULT '未完成',\n",
    "        priority INTEGER NOT NULL,\n",
    "        finish_time TIMESTAMP\n",
    "    )\n",
    "''')"
   ]
  },
  {
   "cell_type": "markdown",
   "id": "c4bbf013-dfa6-41c7-a766-ce07ffdd9313",
   "metadata": {},
   "source": [
    "上面采用``[表头] [数据文本类型] [约束](可选)``形式定义表格的一列。例如``PRIMARY KEY``要求列值必须是唯一且非空的，用于唯一标识表格中的每一行数据。"
   ]
  },
  {
   "cell_type": "code",
   "execution_count": 3,
   "id": "ec3502e3-04fc-4573-8197-879253c18b7c",
   "metadata": {},
   "outputs": [],
   "source": [
    "# 插入一些示例任务数据\n",
    "cursor.execute(\"INSERT INTO tasks (task_name, status, priority, finish_time) VALUES (?, ?, ?, ?)\",\n",
    "               (\"完成项目报告\", \"未完成\", 2, \"2023-08-31 15:00:00\"))\n",
    "cursor.execute(\"INSERT INTO tasks (task_name, status, priority, finish_time) VALUES (?, ?, ?, ?)\",\n",
    "               (\"准备会议材料\", \"已完成\", 1, \"2023-09-05 10:30:00\"))\n",
    "cursor.execute(\"INSERT INTO tasks (task_name, status, priority, finish_time) VALUES (?, ?, ?, ?)\",\n",
    "               (\"清理办公室\", \"未完成\", 3, \"2023-09-10 14:45:00\"))\n",
    "\n",
    "# 提交更改并关闭连接\n",
    "conn.commit()\n",
    "conn.close()"
   ]
  },
  {
   "cell_type": "markdown",
   "id": "15b78494-233b-45cf-a0fa-1cc35f6b0169",
   "metadata": {},
   "source": [
    "这里时间戳``TIMESTAMP``采用ISO 8601 格式。标识数据``task_id``已经自动生成（见下文），自然也可以按照上面语法手动赋值。"
   ]
  },
  {
   "cell_type": "markdown",
   "id": "488f1355-b565-4509-8df3-dd8b2ef394d7",
   "metadata": {},
   "source": [
    "## 2.读取和查找"
   ]
  },
  {
   "cell_type": "markdown",
   "id": "9719a674-b79f-40d2-8ced-87ce83a5980d",
   "metadata": {},
   "source": [
    "为了方便演示，下面定义打印任务数据的函数"
   ]
  },
  {
   "cell_type": "code",
   "execution_count": 4,
   "id": "44cbd6c4-a96d-441f-9d56-b5d455acc0ee",
   "metadata": {},
   "outputs": [],
   "source": [
    "def print_tasks(tasks):\n",
    "    for task in tasks:\n",
    "        task_id, task_name, status, priority, finish_time = task\n",
    "        print(f\"Task ID: {task_id}\")\n",
    "        print(f\"Task Name: {task_name}\")\n",
    "        print(f\"Status: {status}\")\n",
    "        print(f\"Priority: {priority}\")\n",
    "        print(f\"Finish Time: {finish_time}\")\n",
    "        print(\"------------------------\")"
   ]
  },
  {
   "cell_type": "code",
   "execution_count": 13,
   "id": "af70e01f-9609-4ba0-8c29-4bddea8ac5c7",
   "metadata": {},
   "outputs": [
    {
     "name": "stdout",
     "output_type": "stream",
     "text": [
      "Task ID: 1\n",
      "Task Name: 完成项目报告\n",
      "Status: 未完成\n",
      "Priority: 2\n",
      "Finish Time: 2023-08-31 15:00:00\n",
      "------------------------\n",
      "Task ID: 2\n",
      "Task Name: 准备会议材料\n",
      "Status: 已完成\n",
      "Priority: 1\n",
      "Finish Time: 2023-09-05 10:30:00\n",
      "------------------------\n",
      "Task ID: 3\n",
      "Task Name: 清理办公室\n",
      "Status: 未完成\n",
      "Priority: 3\n",
      "Finish Time: 2023-09-10 14:45:00\n",
      "------------------------\n"
     ]
    }
   ],
   "source": [
    "# 再次连接数据库和创建游标\n",
    "conn = sqlite3.connect(\"tasks.db\")\n",
    "cursor = conn.cursor()\n",
    "\n",
    "# 执行 SQL 查询以检索任务数据\n",
    "cursor.execute(\"SELECT * FROM tasks\")\n",
    "\n",
    "# 获取所有任务数据\n",
    "tasks = cursor.fetchall()\n",
    "\n",
    "# 打印任务数据\n",
    "print_tasks(tasks)"
   ]
  },
  {
   "cell_type": "markdown",
   "id": "834a2e13-2768-4384-9414-6c740cac7e77",
   "metadata": {},
   "source": [
    "执行对特定条目的查找，也即更具体地描述SQL语法的``SELECT``语句："
   ]
  },
  {
   "cell_type": "code",
   "execution_count": 14,
   "id": "f85610fc-c39b-4e8d-a6e5-87180d219911",
   "metadata": {},
   "outputs": [
    {
     "name": "stdout",
     "output_type": "stream",
     "text": [
      "Task ID: 3\n",
      "Task Name: 清理办公室\n",
      "Status: 未完成\n",
      "Priority: 3\n",
      "Finish Time: 2023-09-10 14:45:00\n",
      "------------------------\n"
     ]
    }
   ],
   "source": [
    "# 执行 SQL 查询以检索特定 task_name 的任务数据\n",
    "cursor.execute(\"SELECT * FROM tasks WHERE task_name=?\", (\"清理办公室\",))\n",
    "print_tasks(cursor.fetchall())"
   ]
  },
  {
   "cell_type": "markdown",
   "id": "8e1dc1b1-94ad-43ab-92b4-e4c329ade06f",
   "metadata": {},
   "source": [
    "若相应字段为序列，可对特定的区间查找："
   ]
  },
  {
   "cell_type": "code",
   "execution_count": 15,
   "id": "1f282859-93ec-41f3-a016-320546e14ed7",
   "metadata": {},
   "outputs": [
    {
     "name": "stdout",
     "output_type": "stream",
     "text": [
      "Task ID: 2\n",
      "Task Name: 准备会议材料\n",
      "Status: 已完成\n",
      "Priority: 1\n",
      "Finish Time: 2023-09-05 10:30:00\n",
      "------------------------\n",
      "Task ID: 3\n",
      "Task Name: 清理办公室\n",
      "Status: 未完成\n",
      "Priority: 3\n",
      "Finish Time: 2023-09-10 14:45:00\n",
      "------------------------\n"
     ]
    }
   ],
   "source": [
    "cursor.execute(\"SELECT * FROM tasks WHERE finish_time BETWEEN ? AND ?\", (\"2023-09-00 14:45:00\", \"2023-09-10 14:45:00\"))\n",
    "print_tasks(cursor.fetchall())"
   ]
  },
  {
   "cell_type": "markdown",
   "id": "e08fe48f-e0b1-4ffb-89d2-8c4481773217",
   "metadata": {},
   "source": [
    "## 3.更新和删除"
   ]
  },
  {
   "cell_type": "markdown",
   "id": "2f5d7bc2-21ef-4bc3-9dc5-6e5da6c12a6f",
   "metadata": {},
   "source": [
    "删除的语法和查找完全类似"
   ]
  },
  {
   "cell_type": "code",
   "execution_count": 16,
   "id": "909b5585-def0-4c9c-92fb-a7aa30288e54",
   "metadata": {},
   "outputs": [
    {
     "data": {
      "text/plain": [
       "<sqlite3.Cursor at 0x25853406bc0>"
      ]
     },
     "execution_count": 16,
     "metadata": {},
     "output_type": "execute_result"
    }
   ],
   "source": [
    "cursor.execute(\"DELETE FROM tasks WHERE task_id BETWEEN ? AND ?\", (1, 2))"
   ]
  },
  {
   "cell_type": "markdown",
   "id": "f8bab1e5-0226-4a1b-9085-661697611fca",
   "metadata": {},
   "source": [
    "更新则只需在此语法结构上使用``SET``:"
   ]
  },
  {
   "cell_type": "code",
   "execution_count": 17,
   "id": "b0e1efa7-a7a6-4507-8133-3f1ae4585e57",
   "metadata": {},
   "outputs": [
    {
     "data": {
      "text/plain": [
       "<sqlite3.Cursor at 0x25853406bc0>"
      ]
     },
     "execution_count": 17,
     "metadata": {},
     "output_type": "execute_result"
    }
   ],
   "source": [
    "new_status = \"已完成\"\n",
    "cursor.execute(\"UPDATE tasks SET status=? WHERE task_id=?\", (new_status, 3))"
   ]
  },
  {
   "cell_type": "markdown",
   "id": "eb19c43f-7d41-47d1-a72a-5543eea17b00",
   "metadata": {},
   "source": [
    "再次查看数据库中表格内容："
   ]
  },
  {
   "cell_type": "code",
   "execution_count": 18,
   "id": "63bd88ef-8a78-4874-803e-9ac5aad70eb3",
   "metadata": {},
   "outputs": [
    {
     "name": "stdout",
     "output_type": "stream",
     "text": [
      "Task ID: 3\n",
      "Task Name: 清理办公室\n",
      "Status: 已完成\n",
      "Priority: 3\n",
      "Finish Time: 2023-09-10 14:45:00\n",
      "------------------------\n"
     ]
    }
   ],
   "source": [
    "cursor.execute(\"SELECT * FROM tasks\")\n",
    "print_tasks(cursor.fetchall())"
   ]
  },
  {
   "cell_type": "markdown",
   "id": "5e169593-1183-4c54-ae8e-52aac25c414b",
   "metadata": {},
   "source": [
    "此时本地会产生一个``-journal``临时文件，直至.commit()才会对数据库进行修改，同``git``颇有相似之处。"
   ]
  },
  {
   "cell_type": "code",
   "execution_count": 19,
   "id": "388a7dc0-3668-4c8a-a577-cc6b34feefa2",
   "metadata": {},
   "outputs": [],
   "source": [
    "# 放弃修改则直接关闭\n",
    "# conn.close()\n",
    "conn.commit()"
   ]
  },
  {
   "cell_type": "markdown",
   "id": "8d3db3cd-822f-4a03-aa0c-7b7469b6ef8f",
   "metadata": {},
   "source": [
    "## 4.注记"
   ]
  },
  {
   "cell_type": "markdown",
   "id": "5f4da69a-0a21-450f-959d-60ac2399fd93",
   "metadata": {},
   "source": [
    "``sqilite3``的异常处理是比较完备的，当发生输入数据类型错误、标识重复、链接已关闭等情形，均已定义了可读性良好的异常类型。"
   ]
  },
  {
   "cell_type": "code",
   "execution_count": 20,
   "id": "e14eeefb-53d0-41e0-a60f-c7ce5103a60d",
   "metadata": {},
   "outputs": [
    {
     "ename": "ProgrammingError",
     "evalue": "Cannot operate on a closed cursor.",
     "output_type": "error",
     "traceback": [
      "\u001b[1;31m---------------------------------------------------------------------------\u001b[0m",
      "\u001b[1;31mProgrammingError\u001b[0m                          Traceback (most recent call last)",
      "Cell \u001b[1;32mIn[20], line 5\u001b[0m\n\u001b[0;32m      2\u001b[0m cursor\u001b[38;5;241m.\u001b[39mclose()\n\u001b[0;32m      3\u001b[0m conn\u001b[38;5;241m.\u001b[39mclose()\n\u001b[1;32m----> 5\u001b[0m \u001b[43mcursor\u001b[49m\u001b[38;5;241;43m.\u001b[39;49m\u001b[43mexecute\u001b[49m\u001b[43m(\u001b[49m\u001b[38;5;124;43m\"\u001b[39;49m\u001b[38;5;124;43mINSERT INTO tasks (task_name, status, priority, finish_time) VALUES (?, ?, ?, ?)\u001b[39;49m\u001b[38;5;124;43m\"\u001b[39;49m\u001b[43m,\u001b[49m\n\u001b[0;32m      6\u001b[0m \u001b[43m               \u001b[49m\u001b[43m(\u001b[49m\u001b[38;5;124;43m\"\u001b[39;49m\u001b[38;5;124;43m下班\u001b[39;49m\u001b[38;5;124;43m\"\u001b[39;49m\u001b[43m,\u001b[49m\u001b[43m \u001b[49m\u001b[38;5;124;43m\"\u001b[39;49m\u001b[38;5;124;43m未完成\u001b[39;49m\u001b[38;5;124;43m\"\u001b[39;49m\u001b[43m,\u001b[49m\u001b[43m \u001b[49m\u001b[38;5;241;43m0\u001b[39;49m\u001b[43m,\u001b[49m\u001b[43m \u001b[49m\u001b[38;5;124;43m\"\u001b[39;49m\u001b[38;5;124;43m2023-08-25 17:25:00\u001b[39;49m\u001b[38;5;124;43m\"\u001b[39;49m\u001b[43m)\u001b[49m\u001b[43m)\u001b[49m\n",
      "\u001b[1;31mProgrammingError\u001b[0m: Cannot operate on a closed cursor."
     ]
    }
   ],
   "source": [
    "# 关闭游标和连接\n",
    "cursor.close()\n",
    "conn.close()\n",
    "\n",
    "cursor.execute(\"INSERT INTO tasks (task_name, status, priority, finish_time) VALUES (?, ?, ?, ?)\",\n",
    "               (\"下班\", \"未完成\", 0, \"2023-08-25 17:25:00\"))"
   ]
  }
 ],
 "metadata": {
  "kernelspec": {
   "display_name": "Python 3 (ipykernel)",
   "language": "python",
   "name": "python3"
  },
  "language_info": {
   "codemirror_mode": {
    "name": "ipython",
    "version": 3
   },
   "file_extension": ".py",
   "mimetype": "text/x-python",
   "name": "python",
   "nbconvert_exporter": "python",
   "pygments_lexer": "ipython3",
   "version": "3.10.2"
  }
 },
 "nbformat": 4,
 "nbformat_minor": 5
}
