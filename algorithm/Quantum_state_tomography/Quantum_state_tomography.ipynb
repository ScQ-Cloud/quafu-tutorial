{
 "cells": [
  {
   "cell_type": "markdown",
   "id": "c3dc1658",
   "metadata": {},
   "source": [
    "# Quantum state tomography"
   ]
  },
  {
   "cell_type": "markdown",
   "id": "08572aa1",
   "metadata": {},
   "source": [
    "## 0. Background"
   ]
  },
  {
   "cell_type": "markdown",
   "id": "a012ff09",
   "metadata": {},
   "source": [
    "In quantum computing, we need to perform various operations on quantum states to implement various quantum algorithms. Naturally, we want to know the exact form of the quantum state after various operations, and quantum state tomography can help us to achieve this goal. Quantum state tomography is a method of reconstructing quantum states by measurements, which can be used to identify unknown quantum states, evaluate the effects of quantum operations, etc. The basic principle is to repeatedly perform measurements using some specific operators on the systems with the same quantum states, and obtain an estimate of the measurement probability, and then determine the density matrix corresponding to the quantum states. Quantum state tomography can be used for both pure states and mixed states. In order to ensure that all the information of the quantum state can be contained, the operators used for measurement must form a complete set of bases in the Hilbert space.  \n",
    "For example, for the pure state of a single qubit, it can be written as $|\\psi\\rangle =cos{\\frac{\\theta}{2}}|0\\rangle + e^{i\\phi} sin{\\frac {\\theta}{2}}|1\\rangle$, which requires two parameters $\\theta$ and $\\phi$ to determine the quantum state, while for the mixed state of a single qubit, its density matrix has three independent parameters, and all three parameters need to be determined to determine the quantum state. Quantum state tomography can determine all the parameters mentioned above. Once the quantum state is determined, all the information it contains can also be determined, just like in statistical mechanics, knowing the partition function, various physical quantities can be derived from it."
   ]
  },
  {
   "cell_type": "markdown",
   "id": "4cb4d356",
   "metadata": {},
   "source": [
    "## 1. Quantum state tomography"
   ]
  },
  {
   "cell_type": "markdown",
   "id": "65109659",
   "metadata": {},
   "source": [
    "Quantum state tomography can be performed on a single qubit or multiple qubits. The situation of a single qubit is relatively simple, and we will derive and analyze it in detail, with a demonstration example by PyQuafu in the following text. For the situation of n qubits, we will directly give the conclusion, and interested readers can deduce it in the same way as a single qubit situation."
   ]
  },
  {
   "cell_type": "markdown",
   "id": "085edcfe",
   "metadata": {},
   "source": [
    "### 1.1. Quantum state tomography of a single qubit"
   ]
  },
  {
   "cell_type": "markdown",
   "id": "363be760",
   "metadata": {},
   "source": [
    "The density matrix $\\rho$ of a single qubit is a $2 \\times 2 $ matrix. Since the identity matrix and the three Pauli matrices form a set of orthogonal bases in the Hilbert-Schmidt inner product, where \n",
    "$$\n",
    "I=\\begin{pmatrix} 1 & 0 \\\\ 0 & 1\\end{pmatrix},\\sigma_1=\\sigma_X=\\begin{pmatrix} 0 & 1 \\\\ 1 & 0\\end{pmatrix},\\sigma_2=\\sigma_Y=\\begin{pmatrix} 0 & -i \\\\ i & 0\\end{pmatrix},\\sigma_3=\\sigma_Z=\\begin{pmatrix} 1 & 0 \\\\ 0 & -1\\end{pmatrix}, \\tag{1}\n",
    "$$\n",
    "the density matrix $\\rho$ can be decomposed as $\\rho = cI + \\sum\\limits_{i=1}^3 c_i \\sigma_i$. By $\\begin{cases} tr(\\rho)=1 \\\\ tr(I)=2 \\\\ tr(\\sigma_i)=0 \\end{cases}$, we have $c = \\frac{1}{2}$. Combining the property of Pauli matrices $\\sigma_i \\sigma_j = \\delta_{ij}I + i \\epsilon_{ijk}\\sigma_k$, we have $c_i=\\frac{1}{2}tr(\\sigma_i\\rho)$. Therefore\n",
    "$$\n",
    "\\rho = \\frac{I}{2}+\\frac{1}{2}\\sum_{i=1}^3 tr(\\rho\\sigma_i) \\sigma_i =\\frac{I}{2}+\\frac{1}{2}\\sum_{i=1}^3 \\lambda_i \\sigma_i, \\tag{2}\n",
    "$$\n",
    "where $\\lambda_i=tr(\\sigma_i\\rho)$. Note that $\\langle O \\rangle_\\rho=tr(O \\rho)$, which is the expectation value of the observable $O$. Therefore, we can prepare many identical quantum states, and measure the observables $\\sigma_i$ many times, and obtain an estimate of $\\lambda_i$, and then achieve the quantum state tomography of a single qubit.  \n",
    "In addition, in equation (2), when $\\sum\\limits_{i=1}^3 \\lambda_i^2=1$, the quantum state is a pure state, and when $\\sum\\limits_{i=1}^3 \\lambda_i^2 < 1$, the quantum state is a mixed state. Therefore, this decomposition can also be used to judge whether the quantum state is a pure state."
   ]
  },
  {
   "cell_type": "markdown",
   "id": "d84c3a2d",
   "metadata": {},
   "source": [
    "### 1.2. Quantum state tomography of n qubits"
   ]
  },
  {
   "cell_type": "markdown",
   "id": "d27243f1",
   "metadata": {},
   "source": [
    "Similar to the single-qubit case, the density matrix of n qubits can be expanded as\n",
    "$$\n",
    "\\rho = \\sum_{\\vec{v}}\\frac{tr(\\sigma_{v_1} \\otimes \\sigma_{v_2} \\otimes \\cdots \\otimes \\sigma_{v_n} \\, \\rho) \\, \\sigma_{v_1} \\otimes \\sigma_{v_2} \\otimes \\cdots \\otimes \\sigma_{v_n} }{2^n}, \\tag{3}\n",
    "$$\n",
    "where the sum is over the vector $\\vec v = (v_1, \\cdots , v_n)$, $v_i \\in \\{0,1,2,3\\}$, and the identity matrix is denoted as the 0th Pauli matrix, i.e., $\\sigma_0 = I$. Similar to the single-qubit situation, by measuring the observables corresponding to the product of Pauli matrices, we can obtain an estimate of each coefficient in the sum, and thus we can achieve the quantum state tomography of n qubits. "
   ]
  },
  {
   "cell_type": "markdown",
   "id": "091c8a60",
   "metadata": {},
   "source": [
    "## 2. General idea of the demonstration"
   ]
  },
  {
   "cell_type": "markdown",
   "id": "e415814c",
   "metadata": {},
   "source": [
    "We will demonstrate the quantum state tomography of a single qubit, and the demonstration logic is as follows.  \n",
    "Construct a quantum circuit to rotate a qubit from $|0\\rangle$ to $|\\psi\\rangle =cos{\\frac{\\theta}{2}}|0\\rangle + e^{i\\phi}sin{\\frac{\\theta}{2}}|1\\rangle$, where $\\theta\\in[0,\\pi]$ and $\\phi \\in [0,2\\pi] $. Rotate the measurement basis and measure the qubit in the eigenstates of $\\sigma_X$, $\\sigma_Y$, $\\sigma_Z$ operators, respectively. Calculate the expectation values of the corresponding operators based on the measurement results, and thus achieve the quantum state tomography of a single qubit. Use the tomography results to obtain the density matrix $\\rho$, and compare it with the result derived by theoretical calculation and simulator simulation. By changing the values of $\\theta$ and $\\phi$, we can demonstrate with different quantum states."
   ]
  },
  {
   "cell_type": "markdown",
   "id": "b5a55bd9",
   "metadata": {},
   "source": [
    "## 3. Demonstration with PyQuafu"
   ]
  },
  {
   "cell_type": "markdown",
   "id": "9f0e80dd",
   "metadata": {},
   "source": [
    "### 3.1. Create quantum states"
   ]
  },
  {
   "cell_type": "markdown",
   "id": "27a3c4bb",
   "metadata": {},
   "source": [
    "Define a function to create a single-qubit state, which changes the quantum state from $|0 \\rangle$ to $|\\psi \\rangle =\\cos{\\frac{\\theta}{2}}|0\\rangle + e^{i\\phi} \\sin{\\frac {\\theta}{2}}|1\\rangle$ and provides a parameter for the user to select the measurement bases."
   ]
  },
  {
   "cell_type": "code",
   "execution_count": 1,
   "id": "db5186a5",
   "metadata": {},
   "outputs": [],
   "source": [
    "from quafu import QuantumCircuit,Task,simulate\n",
    "import numpy as np\n",
    "import matplotlib.pyplot as plt\n",
    "from numpy import pi\n",
    "\n",
    "def create_circuit(theta, phi, base=\"Z\"):  \n",
    "    \"\"\" create a single qubit state\n",
    "    |0> --> |ψ> = cos(θ/2)|0> + e^(iφ)sin(θ/2)|1>\"\"\"\n",
    "    qc = QuantumCircuit(1)\n",
    "    qc.ry(0,theta)\n",
    "    qc.rz(0,phi)\n",
    "    # Change the measurement bases\n",
    "    if base == \"X\":\n",
    "        qc.ry(0, -pi/2)  # Change the measurement bases to the eigenstates of X\n",
    "    elif base == \"Y\":\n",
    "        qc.rx(0, pi/2)   # Change the measurement bases to the eigenstates of X\n",
    "    elif base == \"Z\":\n",
    "        pass\n",
    "    qc.measure([0])\n",
    "    return qc"
   ]
  },
  {
   "cell_type": "markdown",
   "id": "4f739b8b",
   "metadata": {},
   "source": [
    "As an example, we take $\\theta = \\frac{\\pi}{2}$ and $\\phi = \\frac{\\pi}{4}$. We give the density matrix with the simulator and draw the quantum circuit diagram."
   ]
  },
  {
   "cell_type": "code",
   "execution_count": 2,
   "id": "cee9518e",
   "metadata": {},
   "outputs": [
    {
     "name": "stdout",
     "output_type": "stream",
     "text": [
      "The density matrix ρ of the quantum state is:\n",
      "[[0.25      +0.j         0.30618622-0.30618622j]\n",
      " [0.30618622+0.30618622j 0.75      +0.j        ]]\n"
     ]
    },
    {
     "data": {
      "image/png": "[encoded data removed]",
      "text/plain": [
       "<Figure size 393.701x236.22 with 1 Axes>"
      ]
     },
     "metadata": {},
     "output_type": "display_data"
    }
   ],
   "source": [
    "q=create_circuit(theta=2*pi/3, phi=pi/4)\n",
    "q.plot_circuit(\"State Tomography\")\n",
    "sim_res = simulate(q,output=\"density_matrix\")\n",
    "print(\"The density matrix ρ of the quantum state is:\",sim_res.rho,sep=\"\\n\")"
   ]
  },
  {
   "cell_type": "markdown",
   "id": "f6867ea1",
   "metadata": {},
   "source": [
    "When $\\theta=\\frac{2\\pi}{3},\\phi=\\frac{\\pi}{4}$, the quantum state is $|\\psi\\rangle =\\frac{1}{2}|0\\rangle + \\frac{\\sqrt{3}}{2}e^{i\\frac{\\pi}{4}}|1\\rangle$, and the density matrix is $\\rho = |\\psi\\rangle \\langle\\psi| = \\begin{pmatrix} \\frac{1}{4} & \\frac{\\sqrt{6}}{8}-\\frac{\\sqrt{6}}{8}i \\\\ \\frac{\\sqrt{6}}{8}+\\frac{\\sqrt{6}}{8}i & \\frac{3}{4}\\end{pmatrix}$, which is the same as the simulation result."
   ]
  },
  {
   "cell_type": "markdown",
   "id": "2740f9a7",
   "metadata": {},
   "source": [
    "### 3.2. Create tasks"
   ]
  },
  {
   "cell_type": "markdown",
   "id": "0b70d146",
   "metadata": {},
   "source": [
    "Define a function to create the demonstration task. It has three parameters, `theta`, `phi`, and `experimental`, where `theta` and `phi` are used to determine the corresponding parameters of the quantum state to be constructed, and `experimental` is used to choose whether to run on a real machine or simulator. The function will measure the qubit in the eigenstates of $X$, $Y$, $Z$ operators, respectively, and place the corresponding expectation values $\\lambda_X$, $\\lambda_Y$, $\\lambda_Z$ in `obsexp`.   \n",
    "The function has two return parameters, `obsexp` and `experimental`, which represent the three expectations and whether the operation is run on a real machine or simulator. Besides, if running on a real machine, the function will display the history of the task, which can be saved for later viewing."
   ]
  },
  {
   "cell_type": "code",
   "execution_count": 3,
   "id": "be3d5c2b",
   "metadata": {},
   "outputs": [],
   "source": [
    "def state_tomo(theta, phi, experimental: bool = False):\n",
    "    base_name = ['X','Y','Z']  # Define the name of the measurement bases\n",
    "    obsexp=[]  # To save the value of E(X), E(Y), E(Z)\n",
    "    groupname=\"state_tomo\"  # Name of group\n",
    "    task = Task()  # Create and configure task\n",
    "    task.config(backend=\"ScQ-P18\", shots=2000, compile=True) # \"ScQ-P10\", \"ScQ-P18\", \"ScQ-P136\"\n",
    "    if experimental:\n",
    "        print(\"sending task...\")\n",
    "    for i in range(3):  # Measure quantum states with three different measurement bases\n",
    "        qc = create_circuit(theta=theta, phi=phi, base=base_name[i])\n",
    "        if experimental:\n",
    "            res = task.send(qc, name=base_name[i], group=groupname)\n",
    "            obsexp.append(res.calculate_obs([0]))\n",
    "        else:\n",
    "            simu_res = simulate(qc)\n",
    "            obsexp.append(simu_res.calculate_obs([0]))\n",
    "    if experimental:\n",
    "        history=task.get_history()\n",
    "        print(\"taskid：\",history,\"\\n\",sep=\"\")  # Save the history to disk if you want to retrieve it next time\n",
    "    return obsexp,experimental"
   ]
  },
  {
   "cell_type": "markdown",
   "id": "01a72d8d",
   "metadata": {},
   "source": [
    "Define the identity matrix and the Pauli matrices for later calculation."
   ]
  },
  {
   "cell_type": "code",
   "execution_count": 4,
   "id": "46206e51",
   "metadata": {},
   "outputs": [],
   "source": [
    "I = np.array([[1,0],[0,1]])\n",
    "X = np.array([[0,1],[1,0]])\n",
    "Y = np.array([[0,-1j],[1j,0]])\n",
    "Z = np.array([[1,0],[0,-1]])"
   ]
  },
  {
   "cell_type": "markdown",
   "id": "26740e1c",
   "metadata": {},
   "source": [
    "### 3.3. Simulation result"
   ]
  },
  {
   "cell_type": "markdown",
   "id": "e6989f5a",
   "metadata": {},
   "source": [
    "By calling the `state_tomo` function and setting the `experimental` parameter to False, we can get the simulation result of expectation values $\\lambda_X$, $\\lambda_Y$, $\\lambda_Z$. And by substituting these values into the equation $\\rho=\\frac{I}{2}+\\frac{1}{2}\\sum_{i=1}^3 \\lambda_i \\sigma_i $, we can get the density matrix of quantum states."
   ]
  },
  {
   "cell_type": "code",
   "execution_count": 5,
   "id": "093b1eba",
   "metadata": {},
   "outputs": [
    {
     "name": "stdout",
     "output_type": "stream",
     "text": [
      "According to the simulation result, λx = 0.612372, λy = 0.612372, λz = -0.500000\n",
      "density matrix:\n",
      "ρ = I/2 + (λx X +λy Y +λz Z)/2 = \n",
      "[[0.25      +0.j         0.30618622-0.30618622j]\n",
      " [0.30618622+0.30618622j 0.75      +0.j        ]]\n"
     ]
    }
   ],
   "source": [
    "obsexp, experimental = state_tomo(theta=2*pi/3, phi=pi/4, experimental=False)\n",
    "rho = (I + obsexp[0]*X + obsexp[1]*Y + obsexp[2]*Z)/2\n",
    "print(\"According to the simulation result, λx = {:.6f}, λy = {:.6f}, λz = {:.6f}\".format(*obsexp))\n",
    "print(\"density matrix:\",\"ρ = I/2 + (λx X +λy Y +λz Z)/2 = \",rho,sep=\"\\n\")"
   ]
  },
  {
   "cell_type": "markdown",
   "id": "ecb593ce",
   "metadata": {},
   "source": [
    "The density matrix obtained by quantum state tomography on the simulator is the same as the results obtained by direct calculations and simulations before."
   ]
  },
  {
   "cell_type": "markdown",
   "id": "1358270c",
   "metadata": {},
   "source": [
    "### 3.4. Experimental result"
   ]
  },
  {
   "cell_type": "markdown",
   "id": "79d881a2",
   "metadata": {},
   "source": [
    "By setting the `experimental` parameter to True, we can get results running on the real machine. And the history of the task will be shown."
   ]
  },
  {
   "cell_type": "code",
   "execution_count": 6,
   "id": "b1a6ea65",
   "metadata": {},
   "outputs": [
    {
     "name": "stdout",
     "output_type": "stream",
     "text": [
      "sending task...\n",
      "taskid：{'state_tomo': ['377FF6401DB40CB5', '377FF6C0050537A1', '377FF7302EA21C3E']}\n",
      "\n",
      "According to the experimental result, λx = 0.638000, λy = 0.597000, λz = -0.520000\n",
      "density matrix:\n",
      "ρ = I/2 + (λx X +λy Y +λz Z)/2 = \n",
      "[[0.24 +0.j     0.319-0.2985j]\n",
      " [0.319+0.2985j 0.76 +0.j    ]]\n"
     ]
    }
   ],
   "source": [
    "obsexp, experimental = state_tomo(theta=2*pi/3, phi=pi/4, experimental=True)\n",
    "rho = (I + obsexp[0]*X + obsexp[1]*Y + obsexp[2]*Z)/2\n",
    "print(\"According to the experimental result, λx = {:.6f}, λy = {:.6f}, λz = {:.6f}\".format(*obsexp))\n",
    "print(\"density matrix:\",\"ρ = I/2 + (λx X +λy Y +λz Z)/2 = \",rho,sep=\"\\n\")"
   ]
  },
  {
   "cell_type": "markdown",
   "id": "b5ffeb35",
   "metadata": {},
   "source": [
    "It can be seen that the experimental results are very close to the theoretical values, and thus we have successfully demonstrated quantum state tomography of a single qubit."
   ]
  }
 ],
 "metadata": {
  "kernelspec": {
   "display_name": "Python 3 (ipykernel)",
   "language": "python",
   "name": "python3"
  },
  "language_info": {
   "codemirror_mode": {
    "name": "ipython",
    "version": 3
   },
   "file_extension": ".py",
   "mimetype": "text/x-python",
   "name": "python",
   "nbconvert_exporter": "python",
   "pygments_lexer": "ipython3",
   "version": "3.10.9"
  }
 },
 "nbformat": 4,
 "nbformat_minor": 5
}
