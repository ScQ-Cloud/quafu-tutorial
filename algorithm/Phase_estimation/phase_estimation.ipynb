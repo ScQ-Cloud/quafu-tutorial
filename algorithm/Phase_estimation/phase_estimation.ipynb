{
 "cells": [
  {
   "cell_type": "markdown",
   "metadata": {},
   "source": [
    "# Phase estimation"
   ]
  },
  {
   "cell_type": "markdown",
   "metadata": {},
   "source": [
    "## 0 Background"
   ]
  },
  {
   "cell_type": "markdown",
   "metadata": {},
   "source": [
    "  Phase estimation is the key for many quantum algorithms such as Shor algorithm and Variation Quantum algorithm. The use of phase estimation is to calculate the eigenvalue phase of any unitary operator, giving us an estimation of the phase. As a typical subroutine in the quantum computation, we could combine phase estimation with other subroutines to perform some interesting computational tasks."
   ]
  },
  {
   "cell_type": "markdown",
   "metadata": {},
   "source": [
    "## 1 Phase estimation"
   ]
  },
  {
   "cell_type": "markdown",
   "metadata": {},
   "source": [
    "  Suppose a unitary operator $U$ has an eigenstate $\\left|u\\right \\rangle$ with eigenvalue $e^{2\\pi i \\theta}$ , where the value of $\\theta$ is unknown. The goal of the phase estimation algorithem is to estimate $\\theta$. We use $\\theta$ to represent the actual phase and $\\theta^{'}$ to represent the phase we estimate."
   ]
  },
  {
   "cell_type": "markdown",
   "metadata": {},
   "source": [
    "### 1.1 Quantum Fourier transform(QFT)"
   ]
  },
  {
   "cell_type": "markdown",
   "metadata": {},
   "source": [
    " In the phase estimation algorithm, we need to use quantum Fourier transform and its inverse. Let us get back to the formula of QFT:\n",
    "$$\n",
    " QFT\\left|j\\right\\rangle=\\frac{(\\left|0\\right\\rangle+e^{2\\pi i0.j_{n}}\\left|1\\right\\rangle)(\\left|0\\right\\rangle+e^{2\\pi i0.j_{n-1}j_{n}}\\left|1\\right\\rangle)…(\\left|0\\right\\rangle+e^{2\\pi i0.j_{1}…j_{n}}\\left|1\\right\\rangle)}{2^{n/2}}\n",
    " $$\n",
    "  It is easy to construct the circuit of the inverse quantum Fourier transform because the quantum Fourier transform is unitary. We only need to apply the adjoint operator in the original quantum Fourier transform circuit in reverse order."
   ]
  },
  {
   "cell_type": "markdown",
   "metadata": {},
   "source": [
    "### 1.2 the procedure of phase estimation"
   ]
  },
  {
   "cell_type": "markdown",
   "metadata": {},
   "source": [
    " The procedure of phase estimation uses two registers.\n",
    "\n",
    "  The first register contains t qubits named help-qubits in the state $\\left|0\\right\\rangle$ . How we choose t depends on two things: the number of digits of accuracy we wish to have in our estimate for $\\theta$, and with what probability we wish the phase estimation procedure to be successful. The dependence of t on these quantities emerges naturally from the following analysis.\n",
    "\n",
    "  The second register begins in the state $\\left|u\\right\\rangle$ , which is the eigenvector of the operator $U$ . It contains as many qubits as is necessary to store $\\left|u\\right\\rangle$.\n",
    "\n",
    "  The procedure of the first stage of phase estimation is as below:\n",
    "  ![1](./phase_estimation.png#pic_center)\n",
    "  We begin by apply a Hadamard transform to the first register, followed by application of $controlled-U$ operations on the second register, with U raised to succesive powers of two. The final state can be seen in the above graph. Then we apply the inverse quantum Fourier transform on the first register. The final stage of phase estimation is to read out the state of the first register by doing a measurement in the computational basis.\n",
    "\n",
    "  The schematic of the overall phase estimation procedure is as below:\n",
    "  ![2](./phase-estimation-1.png#pic_center)"
   ]
  },
  {
   "cell_type": "markdown",
   "metadata": {},
   "source": [
    "### 1.3 mathematical derivation"
   ]
  },
  {
   "cell_type": "markdown",
   "metadata": {},
   "source": [
    "  To sharpen our intuition, we derive the procedure by mathematical tools. The initial condition is $U\\left|u\\right\\rangle=e^{2\\pi i\\theta}\\left|u\\right\\rangle$ , $\\theta$ is the phase  \n",
    "  **1.initial state**: The initial state of the system is $\\left|\\underbrace{00\\dots0}_t\\right\\rangle\\otimes\\left|u\\right\\rangle$  \n",
    "\n",
    "  **2.uniform mix**: Apply a Hadamard transform to all of the help-qubits, mixing into a uniform superposition state $\\frac{1}{\\sqrt{2^t}}(\\left|00\\dots0\\right\\rangle+\\dots+\\left|11\\dots1\\right\\rangle)$ . The system turns into the $\\frac{1}{\\sqrt{2^t}}(\\sum_{j=0}^{2^t-1}\\left|j\\right\\rangle\\otimes\\left|u\\right\\rangle)$ state  \n",
    "  **3.controlled-U gate**: The controlled-U gate does nothing when the help-qubit is in the state $\\left|0\\right\\rangle$ When the help-qubit is in the state $\\left|1\\right\\rangle$, the controlled-U gate does  $2^j$ U operations (j depends on the index of the help-qubit). Under such operations the whole system turns into the state:\n",
    "  $$\n",
    "\\begin{equation}\n",
    "\\begin{aligned}\n",
    "the system state&=\\frac{1}{\\sqrt{2^t}}(\\sum_{j=0}^{2^t-1}\\left|j\\right\\rangle\\otimes \\sum_{j=0}^{2^t-1}U^{2^j}\\left|u\\right\\rangle) \\\\\n",
    "&=\\frac{1}{\\sqrt{2^t}}(\\sum_{j=0}^{2^t-1}e^{2\\pi i\\theta \\cdot 2^j}\\left|j\\right\\rangle)\\otimes \\left|u\\right\\rangle \\\\\n",
    "&=\\frac{(\\left|0\\right\\rangle+e^{2\\pi i\\theta \\cdot2^{t-1}}\\left|1\\right\\rangle)(\\left|0\\right\\rangle+e^{2\\pi i\\theta \\cdot2^{t-2}}\\left|1\\right\\rangle)…(\\left|0\\right\\rangle+e^{2\\pi i\\theta \\cdot2^{0}}\\left|1\\right\\rangle)}{2^{t/2}} \\otimes \\left|u\\right\\rangle \\\\\n",
    "&=\\frac{1}{\\sqrt{2^t}}(\\sum_{j=0}^{2^t-1}e^{2\\pi i\\cdot \\theta_j}\\left|j\\right\\rangle)\\otimes \\left|u\\right\\rangle\n",
    "\\end{aligned}\n",
    "\\end{equation}\n",
    "  $$\n",
    "  $\\theta_j$ is the binary representation of $\\theta$ , $\\theta=0.\\theta_1 \\theta_2 \\dots \\theta_{t}$ , From the third line in the equation (2), it is obvious that the state in the first register is the output of implementing the quantum Fourier transform on $\\theta$  \n",
    "  **4.measurement**: we make a measurement on the first register and get $\\theta^{'}$ . If the scale of decimal places  of $\\theta$ is less than or equal to t , $\\theta^{'}$ is the accurate estimation of $\\theta$ . If the scale of decimal digit of $\\theta^{'}$ is more than t , $\\theta^{'}$ is the approximate estimation of $\\theta$ , with an accuracy t.\n",
    "\n",
    "**additional remarks**: If we want to approximate $\\theta$ to an accuracy n with probability of success at least $1-\\epsilon $, we shoule choose:\n",
    "$$\n",
    "t=n+[\\log_{2}{(2+\\frac{1}{2\\epsilon})}]  \\ ([x]\\ means\\ x\\ rounds\\ up\\ to\\ the\\ next\\ integer)\n",
    "$$\n",
    "For detailed proof, please refer to 'Quantum computation and Quantum information' Chapter 5 by A.Nielsen & L.Chuang"
   ]
  },
  {
   "cell_type": "markdown",
   "metadata": {},
   "source": [
    "### 1.4 prepare eigenvector state"
   ]
  },
  {
   "cell_type": "markdown",
   "metadata": {},
   "source": [
    "  In order to make use of the phase estimation algorithm, we need to be able to prepare an eigenstate $\\left|u\\right\\rangle$ of U. What if we do not know how to prepare such an eigenstate? Suppose that we prepare some other state $\\left|\\psi_{n}\\right\\rangle$ , $n=1,2,3,\\dots$, with eigenvalues $e^{2\\pi i\\theta_{n}}$ . Expanding this state in terms of eigenstates $\\left|u\\right\\rangle$ gives $\\left|u\\right\\rangle={\\textstyle \\sum_{n}^{}}c_{n}\\left|\\psi_{n}\\right\\rangle$ . Intuitively, the result of running the phase estimation algorithm will be to give as output a state close to ${\\textstyle \\sum_{n}^{}}c_{n}\\left|\\theta_{n}^{'}\\right\\rangle \\otimes \\left|\\psi_{n}\\right\\rangle$ , where $\\theta_{n}^{'}$ is a pretty good approximation to the phase $\\theta_{n}$ . We obtain a probability distribution, where u is chosen at random with probability $\\left| c_{n}^{2}\\right|$ . This procedure allows us to avoid preparing a (possibly unknown) eigenstate, at the cost of introducing some additional randomness into the algorithm."
   ]
  },
  {
   "cell_type": "markdown",
   "metadata": {},
   "source": [
    "### 1.5 algorithm"
   ]
  },
  {
   "cell_type": "markdown",
   "metadata": {},
   "source": [
    " **Inputs**: 1.A black box wich performs a controlled-$U^j$ operation, for integer $j=0,1,2\\dots t$)\n",
    "\n",
    " 2. an eigenstate $\\left|u\\right\\rangle$ of $U$ with eigenvalue $e^{2\\pi i\\theta_{u}}$\n",
    "\n",
    " 3. $t=n+[\\log_{2}{(2+\\frac{1}{2\\epsilon})}]$   ([x] means x rounds up to the next integer) qubits initialized to the state $\\left|0\\right\\rangle$\n",
    "\n",
    " **Outputs**: An n-bit approximation $\\theta_{u}^{'}$ to $\\theta_{u}$\n",
    "\n",
    " **Runtime**: $O(t^2)$ operations and one call to every controlled-$U^j$ black box.\n",
    "\n",
    " **Success rate**: Succeeds with probability at least $1-\\epsilon$\n",
    "\n",
    " **Procedure**: 1. $\\left|0\\right\\rangle\\otimes\\left|u\\right\\rangle$ $\\ \\ $Initial State\n",
    "\n",
    " 2. $\\frac{1}{\\sqrt{2^t}}(\\sum_{j=0}^{2^t-1}\\left|j\\right\\rangle\\otimes\\left|u\\right\\rangle)$ $\\ \\ $uniform mixing state\n",
    "\n",
    " 3. $\\frac{1}{\\sqrt{2^t}}(\\sum_{j=0}^{2^t-1}e^{2\\pi i\\cdot \\theta_j}\\left|j\\right\\rangle)\\otimes \\left|u\\right\\rangle$ $\\ \\ $result of black box\n",
    "\n",
    " 4. $\\left|\\theta_{n}^{'}\\right\\rangle \\otimes \\left|\\psi_{n}\\right\\rangle$ $\\ \\ $ apply inverse quantum Fourier transform\n",
    "\n",
    " 5. $\\left|\\theta_{n}^{'}\\right\\rangle$ $\\ \\ $ measure first register"
   ]
  },
  {
   "cell_type": "markdown",
   "metadata": {},
   "source": [
    "## 2 do phase estimation by pyquafu"
   ]
  },
  {
   "cell_type": "markdown",
   "metadata": {},
   "source": [
    "### 2.1 the estimation of T gate"
   ]
  },
  {
   "cell_type": "markdown",
   "metadata": {},
   "source": [
    " The first example we use phase estimation to estimate T operator, the matrix representation of T gate is:  $T=\\begin{bmatrix}\n",
    " 1 & 0\\\\\n",
    " 0 & e^{\\frac{i\\pi}{4} }\n",
    "\\end{bmatrix}$ . So $T\\left|0\\right\\rangle=\\left|0\\right\\rangle , T\\left|1\\right\\rangle=e^{2\\pi i \\theta}\\left|1\\right\\rangle$ , $\\theta=\\pi /8$ . In the first example we only use three help-qubits."
   ]
  },
  {
   "cell_type": "code",
   "execution_count": 1,
   "metadata": {},
   "outputs": [
    {
     "name": "stdout",
     "output_type": "stream",
     "text": [
      "q[0]  -H--*--------------------||-x--x-------------------P(-0.785)--P(-1.571)--H--|| M->c[0]\n",
      "          |                    || |  |                       |          |         ||\n",
      "q[1]  -H--|--*--*--------------||-|--|-----P(-1.571)--H------|----------*---------|| M->c[1]\n",
      "          |  |  |              || |  |         |             |                    ||\n",
      "q[2]  -H--|--|--|--*--*--*--*--||-x--x--H------*-------------*--------------------|| M->c[2]\n",
      "          |  |  |  |  |  |  |  ||                                                 ||\n",
      "q[3]  -X--T--T--T--T--T--T--T--||-------------------------------------------------||\n"
     ]
    }
   ],
   "source": [
    "#import packages we need\n",
    "from quafu import QuantumCircuit,Task,simulate\n",
    "import numpy as np\n",
    "import matplotlib.pyplot as plt\n",
    "\n",
    "def iqft(qc,n): #inverse quantum Fourier transform, apply the adjoint operator in the original quantum Fourier transform circuit in reverse order.\n",
    "    for qubit in range(n // 2):\n",
    "        qc.swap(qubit, n - qubit - 1) #swap before rotate\n",
    "    for i in range(n):\n",
    "        for k in range(i):\n",
    "            qc.cp(n-k-1,n-1-i,-np.pi*(2**(k-i))) #in reverse order\n",
    "        qc.h(n-i-1)\n",
    "    return qc\n",
    "\n",
    "def mix(qc,n):\n",
    "    for qubit in range(n):\n",
    "        qc.h(qubit)##mix into the uniform superposition state\n",
    "    return qc\n",
    "\n",
    "def repeat_ct(qc,n,cbit):\n",
    "    repetitions=1\n",
    "    for help_qubit in range(n):\n",
    "        for i in range(repetitions):\n",
    "            qc.ct(help_qubit,cbit)  # ct represents the controlled-T gate,the first parameter is the controlled bit,the second parameter is the target bit.\n",
    "        repetitions *= 2 # power raise\n",
    "    return qc\n",
    "\n",
    "qpe = QuantumCircuit(4)\n",
    "qpe.x(3) #prepare an arbitrary state in the second register\n",
    "mix(qpe,3)\n",
    "repeat_ct(qpe,3,3)\n",
    "qpe.barrier([0,1,2,3])\n",
    "qpe.swap(0,2)\n",
    "iqft(qpe,3)\n",
    "qpe.barrier([0,1,2,3])\n",
    "qpe.measure([0,1,2])\n",
    "qpe.draw_circuit(width=2)"
   ]
  },
  {
   "cell_type": "code",
   "execution_count": 2,
   "metadata": {},
   "outputs": [
    {
     "data": {
      "image/png": "[encoded data removed]",
      "text/plain": [
       "<Figure size 640x480 with 1 Axes>"
      ]
     },
     "metadata": {},
     "output_type": "display_data"
    }
   ],
   "source": [
    "#simulate to verify\n",
    "simu_res = simulate(qpe,output='probabilities')\n",
    "simu_res.plot_probabilities()\n",
    "plt.show()"
   ]
  },
  {
   "cell_type": "markdown",
   "metadata": {},
   "source": [
    "### 2.2 Insufficient accuracy(3 qubits simulation)"
   ]
  },
  {
   "cell_type": "markdown",
   "metadata": {},
   "source": [
    "In the chapter 2.1, we estimate T gate. Actually the phase of T gate only needs three help-qubits to estimate. Suppose we replace the phase with $\\theta=1/3$ , three help-qubits are not enough. We prove this statement in the below."
   ]
  },
  {
   "cell_type": "code",
   "execution_count": 3,
   "metadata": {},
   "outputs": [
    {
     "name": "stdout",
     "output_type": "stream",
     "text": [
      "q[0]  H-----*----------------------------------------------------------||x-x---------------P(-0.785)-P(-1.571)-H-|| M->c[0]\n",
      "            |                                                          ||| |                   |         |       ||\n",
      "q[1]  H-----|--------*--------*----------------------------------------|||-|---P(-1.571)-H-----|---------*-------|| M->c[1]\n",
      "            |        |        |                                        ||| |       |           |                 ||\n",
      "q[2]  H-----|--------|--------|--------*--------*--------*--------*----||x-x-H-----*-----------*-----------------|| M->c[2]\n",
      "            |        |        |        |        |        |        |    ||                                        ||\n",
      "q[3]  X--P(2.094)-P(2.094)-P(2.094)-P(2.094)-P(2.094)-P(2.094)-P(2.094)||----------------------------------------||\n"
     ]
    },
    {
     "data": {
      "image/png": "[encoded data removed]",
      "text/plain": [
       "<Figure size 640x480 with 1 Axes>"
      ]
     },
     "metadata": {},
     "output_type": "display_data"
    }
   ],
   "source": [
    "qpe2=QuantumCircuit(4)\n",
    "qpe2.x(3)\n",
    "mix(qpe2,3)\n",
    "angle=2*np.pi/3\n",
    "repetitions2=1\n",
    "for help_qubit in range(3):\n",
    "    for i in range(repetitions2):\n",
    "        qpe2.cp(help_qubit,3,angle)\n",
    "    repetitions2 *= 2\n",
    "qpe2.barrier([0,1,2,3])\n",
    "qpe2.swap(0,2)\n",
    "iqft(qpe2,3)\n",
    "qpe2.barrier([0,1,2,3])\n",
    "qpe2.measure([0,1,2])\n",
    "qpe2.draw_circuit(width=1)\n",
    "simu_res2 = simulate(qpe2,output='probabilities')\n",
    "simu_res2.plot_probabilities()\n",
    "plt.show()"
   ]
  },
  {
   "cell_type": "markdown",
   "metadata": {},
   "source": [
    "We could see from the outputs that 010(bin)=2(dec) and 011(bin)=3(dec) have the highest probabilities, giving $\\theta=2/2^{3}=0.25$ and $\\theta=3/2^{3}=0.375$ . The actual phase $\\theta=1/3=0.333\\dots$ is between two estimations, So the accuracy is not enough. we need more help-qubits to do phase estimation."
   ]
  },
  {
   "cell_type": "markdown",
   "metadata": {},
   "source": [
    "### 2.3 More accurate estimation(5 qubits simulation)"
   ]
  },
  {
   "cell_type": "markdown",
   "metadata": {},
   "source": [
    "We increase the number of help-qubits to 5 and simulate phase estimation"
   ]
  },
  {
   "cell_type": "code",
   "execution_count": 4,
   "metadata": {},
   "outputs": [
    {
     "data": {
      "image/png": "[encoded data removed]",
      "text/plain": [
       "<Figure size 640x480 with 1 Axes>"
      ]
     },
     "metadata": {},
     "output_type": "display_data"
    }
   ],
   "source": [
    "qpe3=QuantumCircuit(6)\n",
    "qpe3.x(5)\n",
    "mix(qpe3,5)\n",
    "angle=2*np.pi/3\n",
    "repetitions3=1\n",
    "for help_qubit in range(5):\n",
    "    for i in range(repetitions3):\n",
    "        qpe3.cp(help_qubit,5,angle)\n",
    "    repetitions3 *= 2\n",
    "qpe3.barrier([0,1,2,3,4,5])\n",
    "iqft(qpe3,5)\n",
    "qpe3.barrier([0,1,2,3,4,5])\n",
    "qpe3.measure([0,1,2,3,4])\n",
    "simu_res3 = simulate(qpe3,output='probabilities')\n",
    "simu_res3.plot_probabilities()\n",
    "plt.show()"
   ]
  },
  {
   "cell_type": "markdown",
   "metadata": {},
   "source": [
    "This time the outputs with the highest probabilities are 01011(bin)=11(dec) and 01010(bin)=10(dec), giving  $\\theta=11/2^{5}=0.344$ and $\\theta=10/2^{5}=0.313$ . The actual phase $\\theta=1/3=0.333\\dots$  is still between two estimations, the relative error is 3% and 6% , the accuracy has been improved obviously. If we use more help-qubits, we could achieve any accuracy we need."
   ]
  }
 ],
 "metadata": {
  "kernelspec": {
   "display_name": "Python 3 (ipykernel)",
   "language": "python",
   "name": "python3"
  },
  "language_info": {
   "codemirror_mode": {
    "name": "ipython",
    "version": 3
   },
   "file_extension": ".py",
   "mimetype": "text/x-python",
   "name": "python",
   "nbconvert_exporter": "python",
   "pygments_lexer": "ipython3",
   "version": "3.10.9"
  }
 },
 "nbformat": 4,
 "nbformat_minor": 1
}
