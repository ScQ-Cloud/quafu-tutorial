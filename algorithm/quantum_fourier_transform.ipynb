{
 "cells": [
  {
   "cell_type": "markdown",
   "metadata": {
    "collapsed": false,
    "jupyter": {
     "outputs_hidden": false
    }
   },
   "source": [
    "# Quantum Fourier Transform(QFT)"
   ]
  },
  {
   "cell_type": "markdown",
   "metadata": {
    "collapsed": false,
    "jupyter": {
     "outputs_hidden": false
    }
   },
   "source": [
    "## 0 Background"
   ]
  },
  {
   "cell_type": "markdown",
   "metadata": {
    "collapsed": false,
    "jupyter": {
     "outputs_hidden": false
    }
   },
   "source": [
    "  When we solve a problem in computer science or mathematics, one of the most useful ways is to transform it into some other problem for which its solution is known. One such transformation is the *discrete Fourier transform*. Compared to *discrete Fourier transform*, quantum Fourier transform is essentially the same transformation. However, quantum Fourier transform can be implemented as the dynamics for a quantum computer. So quantum Fourier transform has important significance in quantum computation."
   ]
  },
  {
   "cell_type": "markdown",
   "metadata": {
    "collapsed": false,
    "jupyter": {
     "outputs_hidden": false
    }
   },
   "source": [
    "## 1 Algorithm Introduction"
   ]
  },
  {
   "cell_type": "markdown",
   "metadata": {
    "collapsed": false,
    "jupyter": {
     "outputs_hidden": false
    }
   },
   "source": [
    "### 1.1 Discrete Fourier Transform(DFT)"
   ]
  },
  {
   "cell_type": "markdown",
   "metadata": {
    "collapsed": false,
    "jupyter": {
     "outputs_hidden": false
    }
   },
   "source": [
    "Discrete Fourier transform is the mapping transformation from a vector of complex numbers ($x_{0}$,$x_{1}$,…,$x_{N-1}$) to another vector of complex numbers ($y_{0}$,$y_{1}$,…,$y_{N-1}$), defined by:\n",
    "$$\n",
    "y_{k}=\\frac{1}{\\sqrt{N}}\\sum_{j=0}^{N-1}x_{j}e^{2\\pi ijk/N}   \\quad (1)\n",
    "$$\n",
    "​\tDiscrete Fourier transform is exactly the orthonormal basis transformation，the equation above is representing one basis as another basis."
   ]
  },
  {
   "cell_type": "markdown",
   "metadata": {
    "collapsed": false,
    "jupyter": {
     "outputs_hidden": false
    }
   },
   "source": [
    "### 1.2 Quantum Fourier Transform(QFT)"
   ]
  },
  {
   "cell_type": "markdown",
   "metadata": {
    "collapsed": false,
    "jupyter": {
     "outputs_hidden": false
    }
   },
   "source": [
    "Equivalently, quantum Fourier transform is replacing basis vectors with quantum states $\\left | 0  \\right \\rangle$,$\\left | 1  \\right \\rangle$,…,$\\left | N-1  \\right \\rangle$,defined by：\n",
    "$$\n",
    "\\left|j\\right\\rangle=\\frac{1}{\\sqrt{N}}\\sum_{k=0}^{N-1}e^{2\\pi ijk/N}\\left|k\\right\\rangle   \\quad (2)\n",
    "$$\n",
    "​\tSo an arbitrary state could be written as：\n",
    "$$\n",
    "\\sum_{j=0}^{N-1}x_{j}\\left|j\\right\\rangle=\\sum_{k=0}^{N-1}y_{k}\\left|k\\right\\rangle \\quad (3)\n",
    "$$\n",
    "​\tThe coefficients $y_{k}$ are the outputs of the discrete Fourier transform of the amplitudes $x_{j}$. It is obvious from the definition that quantum Fourier transform is an unitary transform，the proof is given in the chapter 1.5."
   ]
  },
  {
   "cell_type": "markdown",
   "metadata": {
    "collapsed": false,
    "jupyter": {
     "outputs_hidden": false
    }
   },
   "source": [
    "### 1.3 The product representation of QFT"
   ]
  },
  {
   "cell_type": "markdown",
   "metadata": {
    "collapsed": false,
    "jupyter": {
     "outputs_hidden": false
    }
   },
   "source": [
    "​\tTo simplify computation in the following，we take $N=2^n$，where $n$ is some integer. It is helpful to use the binary representation:\n",
    "$$\n",
    "j=j_{1}j_{2}…j_{n}.j_{l}j_{l+1}…j_{m}=j_{1}2^{n-1}+…+j_{n}2^{0}+j_{l}/2^{1}+…+j_{m}/2^{m-l+1} \\quad (4)\n",
    "$$\n",
    "​\tThe quantum Fourier transform can be given the following useful product representation：\n",
    "$$\n",
    "\\left|j_{1},\\dots,j_{n}\\right\\rangle=\\frac{(\\left|0\\right\\rangle+e^{2\\pi i0.j_{n}}\\left|1\\right\\rangle)(\\left|0\\right\\rangle+e^{2\\pi i0.j_{n-1}j_{n}}\\left|1\\right\\rangle)…(\\left|0\\right\\rangle+e^{2\\pi i0.j_{1}…j_{n}}\\left|1\\right\\rangle)}{2^{n/2}}  \\quad (5)\n",
    "$$\n",
    "​\tThe equation (2) is equivalent to the equation (5). With a little algebra, we could prove as below：\n",
    "$$\n",
    "\\begin{equation}\n",
    "\\begin{aligned}\n",
    "   \\left|j\\right\\rangle&=\\frac{1}{2^{n/2}}\\sum_{k=0}^{2^n-1}e^{2\\pi ijk/2^{n}}\\left|k\\right\\rangle  \\\\\n",
    "&=\\frac{1}{2^{n/2}}\\sum_{k_{1}=0}^{1}…\\sum_{k_{n}=0}^{1}e^{2\\pi ij(\\sum_{l=1}^{n}k_{l}2^{-l})}\\left|k_1…k_n\\right\\rangle    \\\\\n",
    "&=\\frac{1}{2^{n/2}}\\sum_{k_{1}=0}^{1}…\\sum_{k_{n}=0}^{1}\\bigotimes\\limits_{l=1}\\limits^{n}e^{2\\pi ijk_{l}2^{-l}}\\left|k_l\\right\\rangle  \\\\\n",
    "&=\\frac{1}{2^{n/2}}\\bigotimes\\limits_{l=1}\\limits^{n}[\\sum_{k_{l}=0}^{1}e^{2\\pi ijk_{l}2^{-1}\\left|k_l\\right\\rangle}] \\\\\n",
    "&=\\frac{1}{2^{n/2}}\\bigotimes\\limits_{l=1}\\limits^{n}[\\left|0\\right\\rangle+e^{2\\pi ij2^{-l}}\\left|1\\right\\rangle] \\\\\n",
    "&=\\frac{(\\left|0\\right\\rangle+e^{2\\pi i0.j_{n}}\\left|1\\right\\rangle)(\\left|0\\right\\rangle+e^{2\\pi i0.j_{n-1}j_{n}}\\left|1\\right\\rangle)…(\\left|0\\right\\rangle+e^{2\\pi i0.j_{1}…j_{n}}\\left|1\\right\\rangle)}{2^{n/2}}\n",
    "\\end{aligned} \\quad (6)\n",
    "\\end{equation}\n",
    "$$\n",
    "​\tWe commute tensor products with summation symbol and use the binary representation. The product representation is so useful to allow us to construct an efficient quantum circuit computing the Fourier transform, which could be seen in the next chapter."
   ]
  },
  {
   "cell_type": "markdown",
   "metadata": {
    "collapsed": false,
    "jupyter": {
     "outputs_hidden": false
    }
   },
   "source": [
    "### 1.4 QFT circuit"
   ]
  },
  {
   "attachments": {},
   "cell_type": "markdown",
   "metadata": {
    "collapsed": false,
    "jupyter": {
     "outputs_hidden": false
    }
   },
   "source": [
    "The product representation makes it easy to derive an efficient circuit as below：\n",
    "\n",
    "![1](.\\QFT-circuit-pic.jpg)\n",
    "\n",
    "​\tThe gate $R_k$ denotes the unitary transformation:\n",
    "$$\n",
    "R_k\\equiv \\begin{bmatrix}\n",
    "1  & 0\\\\\n",
    "0  & e^{2\\pi i/2^k}\n",
    "\\end{bmatrix} \\quad (7)\n",
    "$$\n",
    "​\tApplying the Hadamard gate to the first bit produces the state：\n",
    "$$\n",
    "H\\left | j_1  \\right \\rangle=\\frac{1}{\\sqrt{2}}\\left(\\left|0\\right\\rangle+e^{2\\pi i0.j_1}\\left|1\\right\\rangle\\right) \\quad (7)\n",
    "$$\n",
    "​\tIf $j_1=1$，$e^{2\\pi i0.j_1}=-1$. If $j_1=0$，$e^{2\\pi i0.j_1}=1$.\n",
    "\n",
    "​\tThen we apply the $controlled$-$R_2$ gate，If $j_2=0$，$e^{2\\pi i0.j_1}=e^{2\\pi i0.j_1j_2}$, If $j_2=1$，$e^{2\\pi i0.j_1}·e^{2\\pi i/2^2}=e^{2\\pi i0.j_1j_2}$. So the coefficient of qubit $\\left|1\\right\\rangle$ turns to $e^{2\\pi i0.j_1j_2}$.\n",
    "\n",
    "​\tWe continue applying the $controlled$-$R_3$ ,$controlled$-$R_4$,……,through $controlled$-$R_n$ gates，each of which adds an extra bit:\n",
    "$$\n",
    "\\frac{1}{\\sqrt{2}}\\left(\\left|0\\right\\rangle+e^{2\\pi i0.j_1…j_{n}}\\left|1\\right\\rangle\\right)\n",
    "$$\n",
    "​\tThat is the expression for the first term from the right. Next, we perform a similar procedure on the second qubit. We continue this fashion for each qubit, giving a final state. After the last Swap operation to reverse the order of the qubits, we see the desired output of the quantum Fourier transform as the equation (5)."
   ]
  },
  {
   "cell_type": "markdown",
   "metadata": {
    "collapsed": false,
    "jupyter": {
     "outputs_hidden": false
    }
   },
   "source": [
    "### 1.5 Additional remarks for QFT"
   ]
  },
  {
   "cell_type": "markdown",
   "metadata": {
    "collapsed": false,
    "jupyter": {
     "outputs_hidden": false
    }
   },
   "source": [
    "The construction of circuit proves that quantum Fourier transform is unitary，since each gate in the circuit is unitary.\n",
    "\n",
    "​\tFor concreteness it may help to look at the explicit matrix representation for the two qubit quantum Fourier transform, using $\\omega = e^{\\frac{2\\pi i}{4}}= i$, as:\n",
    "$$\n",
    "\\frac{1}{2} \\begin{bmatrix}\n",
    "1  & 1 & 1 & 1 \\\\\n",
    "1  & i & -1 & -i \\\\\n",
    "1  & -1 & 1 & -1 \\\\\n",
    "1  & -i & -1 & -i\n",
    "\\end{bmatrix}\n",
    "$$\n",
    "​\tThe time complexity of quantum Fourier transform could be inferred from the derivation in the chapter 1.4. We start by doing a Hadamard gate and $n-1$ conditional rotations on the first qubit - a total of n gates. Continuing applying gates to the second qubit through the last qubit in this way , we see that $\\frac{n(n+1)}{2}$ gates are required, plus the gate involved in the swaps. At most $n/2$ swaps are required, and each swap can be accomplished using three controlled-gates. Therefore, this circuit provides a $\\Theta (n^2)$ algorithm for performing the quantum Fourier transform.\n",
    "\n",
    "​\tIn contrast, the best classical algorithm(Fast Fourier Transform) on $2^n$ elements uses $\\Theta (n2^n)$ gates. So theoretically, quantum Fourier transform has advantages of shorter required time and fast implementation."
   ]
  },
  {
   "cell_type": "markdown",
   "metadata": {
    "collapsed": false,
    "jupyter": {
     "outputs_hidden": false
    }
   },
   "source": [
    "## 2 Circuit demonstration"
   ]
  },
  {
   "cell_type": "markdown",
   "metadata": {
    "collapsed": false,
    "jupyter": {
     "outputs_hidden": false
    }
   },
   "source": [
    "### 2.1 example：QFT of three qubits"
   ]
  },
  {
   "cell_type": "markdown",
   "metadata": {
    "collapsed": false,
    "jupyter": {
     "outputs_hidden": false
    }
   },
   "source": [
    "If we do a quantum Fourier transform on a triple qubit state  $\\left|5\\right\\rangle=\\left|101\\right\\rangle$. According to the equation (5)，we could give the final state：\n",
    "$$\n",
    "\\begin{equation}\n",
    "\\begin{aligned}\n",
    "\\frac{1}{\\sqrt{8} } \\left(\\left|0\\right\\rangle+e^{2\\pi i*5/2}\\left|1\\right\\rangle\\right)\\left(\\left|0\\right\\rangle+e^{2\\pi i*5/4}\\left|1\\right\\rangle\\right)\\left(\\left|0\\right\\rangle+e^{2\\pi i*5/8}\\left|1\\right\\rangle\\right) \\\\\n",
    "=\\frac{1}{\\sqrt{8}} \\left(\\left|0\\right\\rangle\\left|1\\right\\rangle\\right)\\left(\\left|0\\right\\rangle+i\\left|1\\right\\rangle\\right)\\left(\\left|0\\right\\rangle+(-\\frac{\\sqrt{2}}{2}-i\\frac{\\sqrt{2}}{2})\\left|1\\right\\rangle\\right) \\\\\n",
    "=\\frac{1}{\\sqrt{8}}\\left|000\\right\\rangle+(-\\frac{1}{4}-\\frac{i}{4})\\left|001\\right\\rangle+\\frac{i}{\\sqrt{8}}\\left|010\\right\\rangle+(\\frac{1}{4}-\\frac{i}{4})\\left|011\\right\\rangle \\\\\n",
    "-\\frac{1}{\\sqrt{8}}\\left|100\\right\\rangle+(\\frac{1}{4}+\\frac{i}{4})\\left|101\\right\\rangle-\\frac{i}{\\sqrt{8}}\\left|110\\right\\rangle+(-\\frac{1}{4}+\\frac{i}{4})\\left|111\\right\\rangle\n",
    "\\end{aligned} \\quad (8)\n",
    "\\end{equation}\n",
    "$$\n",
    "​\tThat is the output of the quantum Fourier transform on the qubit $\\left|5\\right\\rangle$. Next, we use python program and experimental tasks to verify the output."
   ]
  },
  {
   "cell_type": "markdown",
   "metadata": {
    "collapsed": false,
    "jupyter": {
     "outputs_hidden": false
    }
   },
   "source": [
    "### 2.2 QFT circuit construction"
   ]
  },
  {
   "cell_type": "markdown",
   "metadata": {
    "collapsed": false,
    "jupyter": {
     "outputs_hidden": false
    }
   },
   "source": [
    "Next we use python to construct and simulate a QFT circuit："
   ]
  },
  {
   "cell_type": "code",
   "execution_count": 10,
   "metadata": {
    "collapsed": false,
    "jupyter": {
     "outputs_hidden": false
    }
   },
   "outputs": [
    {
     "name": "stdout",
     "output_type": "stream",
     "text": [
      "q[0]  --H----P(1.571)----P(0.785)----P(0.393)-------------------------------------------------------x-------\n",
      "                |           |           |                                                           |       \n",
      "q[1]  ----------*-----------|-----------|--------H----P(1.571)----P(0.785)--------------------------|----x--\n",
      "                            |           |                |           |                              |    |  \n",
      "q[2]  ----------------------*-----------|----------------*-----------|--------H----P(1.571)---------|----x--\n",
      "                                        |                            |                |             |       \n",
      "q[3]  ----------------------------------*----------------------------*----------------*--------H----x-------\n"
     ]
    }
   ],
   "source": [
    "#import packages we need\n",
    "from quafu import QuantumCircuit,Task,simulate\n",
    "import numpy as np\n",
    "import matplotlib.pyplot as plt\n",
    "from numpy import pi\n",
    "\n",
    "#use loops to apply Rk-gate and Hadamard-gate\n",
    "def qft_rotation(circuit,n):\n",
    "    for i in range(n):\n",
    "        circuit.h(i)#apply Hadamard-gate\n",
    "        for k in range(n-i-1):\n",
    "            circuit.cp(i+1+k,i,np.pi/(2 ** (k+1))) #apply n-i-1 Rk-gates，In pyquafu the function names cp\n",
    "            #the first parameter is the control qubit，the second parameter is the target qubit，the third parameter is the rotation phase\n",
    "    return circuit\n",
    "\n",
    "def swap_register(circuit, n):  # reverse the order\n",
    "    for qubit in range(n // 2):\n",
    "        circuit.swap(qubit, n - qubit - 1)  # use swap function\n",
    "    return circuit\n",
    "\n",
    "def qft(circuit, n):\n",
    "    qft_rotation(circuit, n)\n",
    "    swap_register(circuit, n)\n",
    "    return circuit\n",
    "\n",
    "#four qubit circuit demonstration:\n",
    "qc=QuantumCircuit(4)\n",
    "qft(qc,4)\n",
    "qc.draw_circuit(width=4)"
   ]
  },
  {
   "cell_type": "code",
   "execution_count": 11,
   "metadata": {
    "collapsed": false,
    "jupyter": {
     "outputs_hidden": false
    }
   },
   "outputs": [
    {
     "name": "stdout",
     "output_type": "stream",
     "text": [
      "q[0]  --X----H----P(1.571)----P(0.785)--------------------------x--\n",
      "                     |           |                              |  \n",
      "q[1]  ---------------*-----------|--------H----P(1.571)---------|--\n",
      "                                 |                |             |  \n",
      "q[2]  --X------------------------*----------------*--------H----x--\n",
      "[ 3.53553391e-01+0.j         -3.53553391e-01+0.j\n",
      "  4.32978028e-17+0.35355339j -4.32978028e-17-0.35355339j\n",
      " -2.50000000e-01-0.25j        2.50000000e-01+0.25j\n",
      "  2.50000000e-01-0.25j       -2.50000000e-01+0.25j      ]\n"
     ]
    }
   ],
   "source": [
    "#simulate to verify the triple qubit circuit\n",
    "qc_3=QuantumCircuit(3)\n",
    "qc_3.x(0)\n",
    "qc_3.x(2)\n",
    "qft(qc_3,3)\n",
    "qc_3.draw_circuit(width=4)\n",
    "simu_res = simulate(qc_3,output='state_vector')\n",
    "print(simu_res.get_statevector())"
   ]
  },
  {
   "cell_type": "markdown",
   "metadata": {
    "collapsed": false,
    "jupyter": {
     "outputs_hidden": false
    }
   },
   "source": [
    "We could see that the outputs fit well with the outcome in the chapter 2.1, indicating the success of simulation verification."
   ]
  },
  {
   "cell_type": "code",
   "execution_count": 12,
   "metadata": {
    "collapsed": false,
    "jupyter": {
     "outputs_hidden": false
    }
   },
   "outputs": [
    {
     "data": {
      "text/plain": "<Figure size 640x480 with 1 Axes>",
      "image/png": "[encoded data removed]"
     },
     "metadata": {},
     "output_type": "display_data"
    }
   ],
   "source": [
    "#experimental tasks\n",
    "task = Task()\n",
    "task.config(backend='ScQ-P18',shots=8000,compile=True)\n",
    "res = task.send(qc_3)\n",
    "res.plot_probabilities()"
   ]
  },
  {
   "cell_type": "markdown",
   "metadata": {
    "collapsed": false,
    "jupyter": {
     "outputs_hidden": false
    }
   },
   "source": [
    "The expected results should be that every qubit has a probability of 0.125. There are some errors in the actual results but they are within the acceptable range."
   ]
  }
 ],
 "metadata": {
  "kernelspec": {
   "display_name": "Python 3 (ipykernel)",
   "language": "python",
   "name": "python3"
  },
  "language_info": {
   "codemirror_mode": {
    "name": "ipython",
    "version": 3
   },
   "file_extension": ".py",
   "mimetype": "text/x-python",
   "name": "python",
   "nbconvert_exporter": "python",
   "pygments_lexer": "ipython3",
   "version": "3.10.10"
  }
 },
 "nbformat": 4,
 "nbformat_minor": 4
}
